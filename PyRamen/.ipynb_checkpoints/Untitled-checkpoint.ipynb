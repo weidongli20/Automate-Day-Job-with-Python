{
 "cells": [
  {
   "cell_type": "code",
   "execution_count": null,
   "metadata": {},
   "outputs": [],
   "source": [
    "import csv"
   ]
  },
  {
   "cell_type": "code",
   "execution_count": null,
   "metadata": {},
   "outputs": [],
   "source": [
    "from pathlib import Path"
   ]
  },
  {
   "cell_type": "code",
   "execution_count": null,
   "metadata": {},
   "outputs": [],
   "source": [
    "menu_filepath = Path('.')/'Resources'/'menu_data.csv'\n",
    "sales_filepath = Path('.')/'Resources'/'sales_data.csv'"
   ]
  },
  {
   "cell_type": "code",
   "execution_count": null,
   "metadata": {},
   "outputs": [],
   "source": [
    "\n",
    "with open(menu_filepath, mode='r') as infile_menu:\n",
    "    reader_menu = csv.reader(infile_menu)\n",
    "    next(reader_menu)\n",
    "    menu=list(reader_menu)"
   ]
  },
  {
   "cell_type": "code",
   "execution_count": null,
   "metadata": {},
   "outputs": [],
   "source": [
    "\n",
    "with open(sales_filepath, mode='r') as infile_sales:\n",
    "    reader_sales = csv.reader(infile_sales)\n",
    "    next(reader_sales)\n",
    "    sales=list(reader_sales)"
   ]
  },
  {
   "cell_type": "code",
   "execution_count": null,
   "metadata": {},
   "outputs": [],
   "source": [
    "menu"
   ]
  },
  {
   "cell_type": "code",
   "execution_count": null,
   "metadata": {},
   "outputs": [],
   "source": [
    "sales[1]"
   ]
  },
  {
   "cell_type": "code",
   "execution_count": null,
   "metadata": {},
   "outputs": [],
   "source": [
    "for row_list in sales:\n",
    "    Line_Item_ID = row_list[0]\n",
    "    Date = row_list[1]\n",
    "    Credit_Card_Number = row_list[2]\n",
    "    Quantity= row_list[3]\n",
    "    Menu_Item = row_list[4]\n",
    "    \n",
    "    print(Line_Item_ID)\n",
    "    print(Date)\n",
    "    print(Credit_Card_Number)\n",
    "    print(Quantity)\n",
    "    print(Menu_Item)\n",
    "    \n",
    "    break"
   ]
  },
  {
   "cell_type": "code",
   "execution_count": null,
   "metadata": {},
   "outputs": [],
   "source": [
    "report = {}"
   ]
  },
  {
   "cell_type": "code",
   "execution_count": null,
   "metadata": {},
   "outputs": [],
   "source": [
    "report"
   ]
  },
  {
   "cell_type": "code",
   "execution_count": null,
   "metadata": {},
   "outputs": [],
   "source": [
    "type(Menu_Item)"
   ]
  },
  {
   "cell_type": "code",
   "execution_count": null,
   "metadata": {},
   "outputs": [],
   "source": [
    "Menu_Item in report"
   ]
  },
  {
   "cell_type": "code",
   "execution_count": null,
   "metadata": {},
   "outputs": [],
   "source": [
    "Menu_Itme not in report"
   ]
  },
  {
   "cell_type": "code",
   "execution_count": null,
   "metadata": {},
   "outputs": [],
   "source": [
    "Menu_Item not in report"
   ]
  },
  {
   "cell_type": "code",
   "execution_count": null,
   "metadata": {},
   "outputs": [],
   "source": [
    "result[Menu_Item]=[]"
   ]
  },
  {
   "cell_type": "code",
   "execution_count": null,
   "metadata": {},
   "outputs": [],
   "source": [
    "report[Menu_Item]=[]"
   ]
  },
  {
   "cell_type": "code",
   "execution_count": null,
   "metadata": {},
   "outputs": [],
   "source": [
    "report"
   ]
  },
  {
   "cell_type": "code",
   "execution_count": null,
   "metadata": {},
   "outputs": [],
   "source": [
    "        sales_item = {\n",
    "            \"01-count\":0,\n",
    "            \"02-revenue\": 0,\n",
    "            \"03-cogs\": 0,\n",
    "        }\n",
    "        \n",
    "\n"
   ]
  },
  {
   "cell_type": "code",
   "execution_count": null,
   "metadata": {},
   "outputs": [],
   "source": [
    "sales_item"
   ]
  },
  {
   "cell_type": "code",
   "execution_count": null,
   "metadata": {},
   "outputs": [],
   "source": [
    "report[Menu_Item]=sales_item"
   ]
  },
  {
   "cell_type": "code",
   "execution_count": null,
   "metadata": {},
   "outputs": [],
   "source": [
    "report"
   ]
  },
  {
   "cell_type": "code",
   "execution_count": null,
   "metadata": {},
   "outputs": [],
   "source": [
    "menu[:1]"
   ]
  },
  {
   "cell_type": "code",
   "execution_count": null,
   "metadata": {},
   "outputs": [],
   "source": [
    "menu.header"
   ]
  },
  {
   "cell_type": "code",
   "execution_count": null,
   "metadata": {},
   "outputs": [],
   "source": [
    "menu[:5]"
   ]
  },
  {
   "cell_type": "code",
   "execution_count": null,
   "metadata": {},
   "outputs": [],
   "source": [
    "     for menu_entry in menu:\n",
    "        # Item,Category,Description,Price,Cost\n",
    "        # @TODO: Initialize menu data variables\n",
    "        menu_item = menu_entry[0]\n",
    "        category = menu_entry[1]\n",
    "        description = menu_entry[2]\n",
    "        price = menu_entry[3]\n",
    "        cost = menu_entry[4]\n",
    "        break\n",
    "\n"
   ]
  },
  {
   "cell_type": "code",
   "execution_count": null,
   "metadata": {},
   "outputs": [],
   "source": [
    "menu_item"
   ]
  },
  {
   "cell_type": "code",
   "execution_count": null,
   "metadata": {},
   "outputs": [],
   "source": [
    "report"
   ]
  },
  {
   "cell_type": "code",
   "execution_count": null,
   "metadata": {},
   "outputs": [],
   "source": [
    "Menu_Item"
   ]
  },
  {
   "cell_type": "code",
   "execution_count": 16,
   "metadata": {},
   "outputs": [],
   "source": [
    "report = {}\n",
    "row_count = 0\n",
    "\n",
    "# @TODO: Loop over every row in the sales list object\n",
    "for sales_row in sales:\n",
    "\n",
    "    # Line_Item_ID,Date,Credit_Card_Number,Quantity,Menu_Item\n",
    "    # @TODO: Initialize sales data variables\n",
    "    line_item_ID = sales_row[0]\n",
    "    date = sales_row[1]\n",
    "    credit_card_Number = sales_row[2]\n",
    "    quantity= int(sales_row[3])\n",
    "    item = sales_row[4]\n",
    "\n",
    "    # @TODO:\n",
    "    # If the item value not in the report, add it as a new entry with initialized metrics\n",
    "    # Naming convention allows the keys to be ordered in logical fashion, count, revenue, cost, profit\n",
    "    if item not in report:\n",
    "        sales_metrics = {\n",
    "            \"01-count\":0,\n",
    "            \"02-revenue\": 0,\n",
    "            \"03-cogs\": 0,\n",
    "            \"04-profit\": 0,\n",
    "        }       \n",
    "        report[item] = sales_metrics\n",
    "\n"
   ]
  },
  {
   "cell_type": "code",
   "execution_count": 17,
   "metadata": {},
   "outputs": [
    {
     "name": "stdout",
     "output_type": "stream",
     "text": [
      "spicy miso ramen does not equal edamame! NO MATCH!\n",
      "spicy miso ramen does not equal house salad! NO MATCH!\n",
      "spicy miso ramen does not equal cucumber sunomono salad! NO MATCH!\n",
      "spicy miso ramen does not equal hiyashi wakame seaweed salad! NO MATCH!\n",
      "spicy miso ramen does not equal agedashi tofu! NO MATCH!\n",
      "spicy miso ramen does not equal hiyayakko tofu! NO MATCH!\n",
      "spicy miso ramen does not equal pork floss bao! NO MATCH!\n",
      "spicy miso ramen does not equal kakuni bao! NO MATCH!\n",
      "spicy miso ramen does not equal edamame fried gyoza (vegan)! NO MATCH!\n",
      "spicy miso ramen does not equal fried gyoza! NO MATCH!\n",
      "spicy miso ramen does not equal takoyaki! NO MATCH!\n",
      "spicy miso ramen does not equal rock shrimp tempura! NO MATCH!\n",
      "spicy miso ramen does not equal soft-shell crab tempura! NO MATCH!\n",
      "spicy miso ramen does not equal ebi katsu shrimp bao! NO MATCH!\n",
      "spicy miso ramen does not equal nagomi shoyu! NO MATCH!\n",
      "spicy miso ramen does not equal shio ramen! NO MATCH!\n",
      "spicy miso ramen equals spicy miso ramen.\n",
      "spicy miso ramen does not equal vegetarian spicy miso! NO MATCH!\n",
      "spicy miso ramen does not equal miso crab ramen! NO MATCH!\n",
      "spicy miso ramen does not equal soft-shell miso crab ramen! NO MATCH!\n",
      "spicy miso ramen does not equal tori paitan ramen! NO MATCH!\n",
      "spicy miso ramen does not equal tonkotsu ramen! NO MATCH!\n",
      "spicy miso ramen does not equal burnt garlic tonkotsu ramen! NO MATCH!\n",
      "spicy miso ramen does not equal vegetarian curry + king trumpet mushroom ramen! NO MATCH!\n",
      "spicy miso ramen does not equal truffle butter ramen! NO MATCH!\n",
      "spicy miso ramen does not equal green tea! NO MATCH!\n",
      "spicy miso ramen does not equal coke! NO MATCH!\n",
      "spicy miso ramen does not equal black sesame ice cream! NO MATCH!\n",
      "spicy miso ramen does not equal matcha ice cream! NO MATCH!\n",
      "spicy miso ramen does not equal mango mochi ice cream! NO MATCH!\n",
      "spicy miso ramen does not equal strawberry mochi ice cream! NO MATCH!\n",
      "spicy miso ramen does not equal black sesame creme brulee! NO MATCH!\n"
     ]
    }
   ],
   "source": [
    "    for menu_row in menu:\n",
    "        # Item,Category,Description,Price,Cost\n",
    "        # @TODO: Initialize menu data variables\n",
    "        menu_item = menu_row[0]\n",
    "        category = menu_row[1]\n",
    "        description = menu_row[2]\n",
    "        price = float(menu_row[3])\n",
    "        cost = float(menu_row[4])\n",
    "\n",
    "        # @TODO: Calculate profit of each item in the menu data\n",
    "        profit = price - cost\n",
    "\n",
    "        # @TODO: If the item value in our sales data is equal to the any of the items in the menu, then begin tracking metrics for that item\n",
    "        if item == menu_item:\n",
    "            # @TODO: Print out matching menu data\n",
    "            print(f\"{item} equals {menu_item}.\")\n",
    "\n",
    "            # @TODO: Cumulatively add up the metrics for each item key\n",
    "            report[item][\"01-count\"] += quantity\n",
    "            report[item][\"02-revenue\"] += price * quantity\n",
    "            report[item][\"03-cogs\"] += cost * quantity\n",
    "            report[item][\"04-profit\"] += profit * quantity\n",
    "\n",
    "\n",
    "        # @TODO: Else, the sales item does not equal any fo the item in the menu data, therefore no match\n",
    "        else:\n",
    "            print(f\"{item} does not equal {menu_item}! NO MATCH!\")\n",
    "\n",
    "    # @TODO: Increment the row counter by 1\n",
    "    row_count += 1\n",
    "\n"
   ]
  },
  {
   "cell_type": "code",
   "execution_count": 18,
   "metadata": {},
   "outputs": [
    {
     "name": "stdout",
     "output_type": "stream",
     "text": [
      "1\n"
     ]
    }
   ],
   "source": [
    "print(row_count)"
   ]
  },
  {
   "cell_type": "code",
   "execution_count": 19,
   "metadata": {},
   "outputs": [
    {
     "data": {
      "text/plain": [
       "{'spicy miso ramen': {'01-count': 2,\n",
       "  '02-revenue': 24.0,\n",
       "  '03-cogs': 10.0,\n",
       "  '04-profit': 14.0},\n",
       " 'tori paitan ramen': {'01-count': 0,\n",
       "  '02-revenue': 0,\n",
       "  '03-cogs': 0,\n",
       "  '04-profit': 0},\n",
       " 'truffle butter ramen': {'01-count': 0,\n",
       "  '02-revenue': 0,\n",
       "  '03-cogs': 0,\n",
       "  '04-profit': 0},\n",
       " 'tonkotsu ramen': {'01-count': 0,\n",
       "  '02-revenue': 0,\n",
       "  '03-cogs': 0,\n",
       "  '04-profit': 0},\n",
       " 'vegetarian spicy miso': {'01-count': 0,\n",
       "  '02-revenue': 0,\n",
       "  '03-cogs': 0,\n",
       "  '04-profit': 0},\n",
       " 'shio ramen': {'01-count': 0, '02-revenue': 0, '03-cogs': 0, '04-profit': 0},\n",
       " 'miso crab ramen': {'01-count': 0,\n",
       "  '02-revenue': 0,\n",
       "  '03-cogs': 0,\n",
       "  '04-profit': 0},\n",
       " 'nagomi shoyu': {'01-count': 0,\n",
       "  '02-revenue': 0,\n",
       "  '03-cogs': 0,\n",
       "  '04-profit': 0},\n",
       " 'soft-shell miso crab ramen': {'01-count': 0,\n",
       "  '02-revenue': 0,\n",
       "  '03-cogs': 0,\n",
       "  '04-profit': 0},\n",
       " 'burnt garlic tonkotsu ramen': {'01-count': 0,\n",
       "  '02-revenue': 0,\n",
       "  '03-cogs': 0,\n",
       "  '04-profit': 0},\n",
       " 'vegetarian curry + king trumpet mushroom ramen': {'01-count': 0,\n",
       "  '02-revenue': 0,\n",
       "  '03-cogs': 0,\n",
       "  '04-profit': 0}}"
      ]
     },
     "execution_count": 19,
     "metadata": {},
     "output_type": "execute_result"
    }
   ],
   "source": [
    "report"
   ]
  },
  {
   "cell_type": "code",
   "execution_count": 24,
   "metadata": {},
   "outputs": [
    {
     "name": "stdout",
     "output_type": "stream",
     "text": [
      "Total number of records in sales data:1\n",
      "{'01-count': 2, '02-revenue': 24.0, '03-cogs': 10.0, '04-profit': 14.0}\n",
      "{'01-count': 0, '02-revenue': 0, '03-cogs': 0, '04-profit': 0}\n",
      "{'01-count': 0, '02-revenue': 0, '03-cogs': 0, '04-profit': 0}\n",
      "{'01-count': 0, '02-revenue': 0, '03-cogs': 0, '04-profit': 0}\n",
      "{'01-count': 0, '02-revenue': 0, '03-cogs': 0, '04-profit': 0}\n",
      "{'01-count': 0, '02-revenue': 0, '03-cogs': 0, '04-profit': 0}\n",
      "{'01-count': 0, '02-revenue': 0, '03-cogs': 0, '04-profit': 0}\n",
      "{'01-count': 0, '02-revenue': 0, '03-cogs': 0, '04-profit': 0}\n",
      "{'01-count': 0, '02-revenue': 0, '03-cogs': 0, '04-profit': 0}\n",
      "{'01-count': 0, '02-revenue': 0, '03-cogs': 0, '04-profit': 0}\n",
      "{'01-count': 0, '02-revenue': 0, '03-cogs': 0, '04-profit': 0}\n"
     ]
    }
   ],
   "source": [
    "print(f\"Total number of records in sales data:{row_count}\")\n",
    "\n",
    "# @TODO: Write out report to a text file (won't appear on the command line output)\n",
    "output_path = Path('output.csv')\n",
    "header = [\"01-count\", \"02-revenue\", \"03-cogs\", \"04-profit\"]\n",
    "\n",
    "with open(output_path, 'w') as csvfile:\n",
    "    csvwriter = csv.writer(csvfile, delimiter=',')\n",
    "    # Write the header to the output file\n",
    "    csvwriter.writerow(header)\n",
    "    for item, row in report.items():\n",
    "        print(row)\n",
    "        metrics = [row[\"01-count\"], row[\"02-revenue\"], row[\"03-cogs\"], row[\"04-profit\"]]\n",
    "        csvwriter.writerow(metrics)\n",
    "\n"
   ]
  },
  {
   "cell_type": "code",
   "execution_count": 22,
   "metadata": {},
   "outputs": [
    {
     "data": {
      "text/plain": [
       "{'spicy miso ramen': {'01-count': 2,\n",
       "  '02-revenue': 24.0,\n",
       "  '03-cogs': 10.0,\n",
       "  '04-profit': 14.0},\n",
       " 'tori paitan ramen': {'01-count': 0,\n",
       "  '02-revenue': 0,\n",
       "  '03-cogs': 0,\n",
       "  '04-profit': 0},\n",
       " 'truffle butter ramen': {'01-count': 0,\n",
       "  '02-revenue': 0,\n",
       "  '03-cogs': 0,\n",
       "  '04-profit': 0},\n",
       " 'tonkotsu ramen': {'01-count': 0,\n",
       "  '02-revenue': 0,\n",
       "  '03-cogs': 0,\n",
       "  '04-profit': 0},\n",
       " 'vegetarian spicy miso': {'01-count': 0,\n",
       "  '02-revenue': 0,\n",
       "  '03-cogs': 0,\n",
       "  '04-profit': 0},\n",
       " 'shio ramen': {'01-count': 0, '02-revenue': 0, '03-cogs': 0, '04-profit': 0},\n",
       " 'miso crab ramen': {'01-count': 0,\n",
       "  '02-revenue': 0,\n",
       "  '03-cogs': 0,\n",
       "  '04-profit': 0},\n",
       " 'nagomi shoyu': {'01-count': 0,\n",
       "  '02-revenue': 0,\n",
       "  '03-cogs': 0,\n",
       "  '04-profit': 0},\n",
       " 'soft-shell miso crab ramen': {'01-count': 0,\n",
       "  '02-revenue': 0,\n",
       "  '03-cogs': 0,\n",
       "  '04-profit': 0},\n",
       " 'burnt garlic tonkotsu ramen': {'01-count': 0,\n",
       "  '02-revenue': 0,\n",
       "  '03-cogs': 0,\n",
       "  '04-profit': 0},\n",
       " 'vegetarian curry + king trumpet mushroom ramen': {'01-count': 0,\n",
       "  '02-revenue': 0,\n",
       "  '03-cogs': 0,\n",
       "  '04-profit': 0}}"
      ]
     },
     "execution_count": 22,
     "metadata": {},
     "output_type": "execute_result"
    }
   ],
   "source": [
    "report"
   ]
  },
  {
   "cell_type": "code",
   "execution_count": 25,
   "metadata": {},
   "outputs": [
    {
     "ename": "IndentationError",
     "evalue": "unexpected indent (<ipython-input-25-0f8babbc48be>, line 5)",
     "output_type": "error",
     "traceback": [
      "\u001b[0;36m  File \u001b[0;32m\"<ipython-input-25-0f8babbc48be>\"\u001b[0;36m, line \u001b[0;32m5\u001b[0m\n\u001b[0;31m    for item, row in report.items():\u001b[0m\n\u001b[0m    ^\u001b[0m\n\u001b[0;31mIndentationError\u001b[0m\u001b[0;31m:\u001b[0m unexpected indent\n"
     ]
    }
   ],
   "source": [
    "with open(output_path, 'w') as csvfile:\n",
    "    csvwriter = csv.writer(csvfile, delimiter=',')\n",
    "    # Write the header to the output file\n",
    "    csvwriter.writerow(header)\n",
    "     for item, row in report.items():\n",
    "        metrics = [\n",
    "            row[\"01-count\"], row[\"02-revenue\"], \n",
    "            row[\"03-cogs\"], row[\"04-profit\"],\n",
    "        ]\n",
    "        csvwriter.writerow(metrics)\n",
    "\n"
   ]
  },
  {
   "cell_type": "code",
   "execution_count": 27,
   "metadata": {},
   "outputs": [],
   "source": [
    "\n",
    "with open(output_path, 'w') as csvfile:\n",
    "    csvwriter = csv.writer(csvfile, delimiter=',')\n",
    "    # Write the header to the output file\n",
    "    csvwriter.writerow(header)\n",
    "    for item, row in report.items():\n",
    "        metrics = [\n",
    "            row[\"01-count\"], row[\"02-revenue\"], \n",
    "            row[\"03-cogs\"], row[\"04-profit\"],\n",
    "        ]\n",
    "        csvwriter.writerow(metrics)"
   ]
  },
  {
   "cell_type": "code",
   "execution_count": null,
   "metadata": {},
   "outputs": [],
   "source": []
  }
 ],
 "metadata": {
  "kernelspec": {
   "display_name": "Python 3",
   "language": "python",
   "name": "python3"
  },
  "language_info": {
   "codemirror_mode": {
    "name": "ipython",
    "version": 3
   },
   "file_extension": ".py",
   "mimetype": "text/x-python",
   "name": "python",
   "nbconvert_exporter": "python",
   "pygments_lexer": "ipython3",
   "version": "3.7.7"
  }
 },
 "nbformat": 4,
 "nbformat_minor": 4
}
